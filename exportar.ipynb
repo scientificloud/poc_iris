{
 "cells": [
  {
   "cell_type": "code",
   "execution_count": 26,
   "id": "71f633d5-95fd-459b-a811-d2bf8fe9e17a",
   "metadata": {
    "tags": []
   },
   "outputs": [],
   "source": [
    "#source: https://community.intersystems.com/post/save-pandas-dataframe-iris-quick-note\n",
    "#https://github.com/intersystems-community/iris-driver-distribution/tree/main/JDBC/JDK18\n",
    "\n",
    "import jaydebeapi\n",
    "url = \"jdbc:IRIS://localhost:1972/USER\" \n",
    "driver = 'com.intersystems.jdbc.IRISDriver'\n",
    "user = \"_SYSTEM\"\n",
    "password = \"SYS\"\n",
    "jarfile = \"/opt/irisbuild/intersystems-jdbc-3.6.1.jar\""
   ]
  },
  {
   "cell_type": "code",
   "execution_count": 6,
   "id": "6c42b074-014e-4492-aaaa-043fa0a9280d",
   "metadata": {
    "tags": []
   },
   "outputs": [
    {
     "name": "stdout",
     "output_type": "stream",
     "text": [
      "Defaulting to user installation because normal site-packages is not writeable\n",
      "Requirement already satisfied: jaydebeapi in /home/irisowner/.local/lib/python3.10/site-packages (1.2.3)\n",
      "Requirement already satisfied: JPype1 in /home/irisowner/.local/lib/python3.10/site-packages (from jaydebeapi) (1.4.1)\n",
      "Requirement already satisfied: packaging in /home/irisowner/.local/lib/python3.10/site-packages (from JPype1->jaydebeapi) (23.0)\n"
     ]
    }
   ],
   "source": [
    "!pip install jaydebeapi"
   ]
  },
  {
   "cell_type": "code",
   "execution_count": 9,
   "id": "18e5062c-eaec-4a61-9b30-bc00cc9e08ac",
   "metadata": {
    "tags": []
   },
   "outputs": [
    {
     "name": "stdout",
     "output_type": "stream",
     "text": [
      "/opt/irisbuild\n"
     ]
    }
   ],
   "source": [
    "!pwd"
   ]
  },
  {
   "cell_type": "code",
   "execution_count": 27,
   "id": "9ffeda61-0276-43d2-9a3e-a4a92f74f61c",
   "metadata": {
    "tags": []
   },
   "outputs": [],
   "source": [
    "conn = jaydebeapi.connect(driver, url, [user, password], jarfile)\n",
    "curs = conn.cursor()"
   ]
  },
  {
   "cell_type": "code",
   "execution_count": 55,
   "id": "519b8c92-395e-4f96-9361-9c3b94c52082",
   "metadata": {
    "tags": []
   },
   "outputs": [],
   "source": [
    "def to_sql_iris(cursor, dataFrame, tableName, schemaName='SQLUser', drop_table=False ):\n",
    "        \"\"\"\"\n",
    "        Dynamically insert dataframe into an IRIS table via SQL by \"excutemany\" \n",
    "        \n",
    "        Inputs:\n",
    "            cursor:      Python JDBC or PyODBC cursor from a valid and establised DB connection\n",
    "            dataFrame:   Pandas dataframe\n",
    "            tablename:   IRIS SQL table to be created, inserted or apended\n",
    "            schemaName:  IRIS schemaName, default to \"SQLUser\"\n",
    "            drop_table:  If the table already exsits, drop it and re-create it if True; othrewise keep it and appen \n",
    "        Output:\n",
    "            True is successful; False if there is any exception.\n",
    "        \"\"\"\n",
    "        if drop_table:   \n",
    "            try:                 \n",
    "                curs.execute(\"DROP TABLE %s.%s\" %(schemaName, tableName))\n",
    "            except Exception:\n",
    "                pass\n",
    "        \n",
    "        try: \n",
    "            dataFrame.columns = dataFrame.columns.str.replace(\"[() -]\", \"_\")\n",
    "            curs.execute(pd.io.sql.get_schema(dataFrame, tableName))\n",
    "        except Exception:\n",
    "            pass\n",
    "        \n",
    "        curs.fast_executemany = True\n",
    "        cols = \", \".join([str(i) for i in dataFrame.columns.tolist()])\n",
    "        wildc =''.join('?, ' * len(dataFrame.columns))\n",
    "        wildc = '(' + wildc[:-2] + ')'\n",
    "        sql = \"INSERT INTO \" + tableName + \" ( \" + cols.replace('-', '_') + \" ) VALUES\" + wildc\n",
    "        #print(sql)\n",
    "        curs.executemany(sql, list(dataFrame.itertuples(index=False, name=None)) )\n",
    "        return True"
   ]
  },
  {
   "cell_type": "code",
   "execution_count": 56,
   "id": "30f34ced-5e85-4a34-89bd-bcce7b0edffa",
   "metadata": {
    "tags": []
   },
   "outputs": [],
   "source": [
    "#criar DF aqui\n",
    "import pandas as pd\n",
    "fiocruz=pd.read_csv('/home/irisowner/TRAJETORIAS_DATASET_Population_indicators.csv', sep=',')\n",
    "\n",
    "\n"
   ]
  },
  {
   "cell_type": "code",
   "execution_count": 66,
   "id": "0a6e8a77-a6a1-440e-b771-fcf173b02b89",
   "metadata": {
    "tags": []
   },
   "outputs": [
    {
     "ename": "TypeError",
     "evalue": "get_schema() missing 1 required positional argument: 'name'",
     "output_type": "error",
     "traceback": [
      "\u001b[0;31m---------------------------------------------------------------------------\u001b[0m",
      "\u001b[0;31mTypeError\u001b[0m                                 Traceback (most recent call last)",
      "Cell \u001b[0;32mIn[66], line 1\u001b[0m\n\u001b[0;32m----> 1\u001b[0m \u001b[43mpd\u001b[49m\u001b[38;5;241;43m.\u001b[39;49m\u001b[43mio\u001b[49m\u001b[38;5;241;43m.\u001b[39;49m\u001b[43msql\u001b[49m\u001b[38;5;241;43m.\u001b[39;49m\u001b[43mget_schema\u001b[49m\u001b[43m(\u001b[49m\u001b[43mfiocruz\u001b[49m\u001b[43m)\u001b[49m\n",
      "\u001b[0;31mTypeError\u001b[0m: get_schema() missing 1 required positional argument: 'name'"
     ]
    }
   ],
   "source": [
    "pd.io.sql.get_schema(fiocruz)"
   ]
  },
  {
   "cell_type": "code",
   "execution_count": 41,
   "id": "6eef072d-55f8-43c5-b208-f7c7872284ec",
   "metadata": {
    "tags": []
   },
   "outputs": [
    {
     "name": "stdout",
     "output_type": "stream",
     "text": [
      "<class 'pandas.core.frame.DataFrame'>\n",
      "RangeIndex: 772 entries, 0 to 771\n",
      "Data columns (total 1 columns):\n",
      " #   Column                                                                                                                                                                                                                                                     Non-Null Count  Dtype \n",
      "---  ------                                                                                                                                                                                                                                                     --------------  ----- \n",
      " 0   state_abbrev,\"state\",\"municipality\",\"geocode\",\"urb2000\",\"rur2000\",\"tot2000\",\"prop_urb2000\",\"prop_rur2000\",\"urb2010\",\"rur2010\",\"tot2010\",\"prop_urb2010\",\"prop_rur2010\",\"pop_estimated2006\",\"pop_estimated2017\",\"urb2006e\",\"rur2006e\",\"urb2017e\",\"rur2017e\"  772 non-null    object\n",
      "dtypes: object(1)\n",
      "memory usage: 6.2+ KB\n"
     ]
    }
   ],
   "source": [
    "fiocruz.info(show_counts=True, memory_usage=True)"
   ]
  },
  {
   "cell_type": "code",
   "execution_count": 50,
   "id": "16921fc7-03bf-482a-93d7-aeae1740256a",
   "metadata": {
    "tags": []
   },
   "outputs": [
    {
     "name": "stdout",
     "output_type": "stream",
     "text": [
      "   #                                             Column Non-Null Count   Dtype\n",
      "0  0  state_abbrev,\"state\",\"municipality\",\"geocode\",...            772  object\n"
     ]
    }
   ],
   "source": [
    "#listar colunas\n",
    "import io\n",
    "buffer = io.StringIO()\n",
    "fiocruz.info(buf=buffer)\n",
    "lines = buffer.getvalue().splitlines()\n",
    "ndf = (pd.DataFrame([x.split() for x in lines[5:-2]], columns=lines[3].split())\n",
    "       .drop('Count',axis=1)\n",
    "       .rename(columns={'Non-Null':'Non-Null Count'}))\n",
    "print (ndf)"
   ]
  },
  {
   "cell_type": "code",
   "execution_count": 38,
   "id": "cd8cb709-4bd1-4da3-a42b-f0be6aa94058",
   "metadata": {
    "tags": []
   },
   "outputs": [
    {
     "data": {
      "text/plain": [
       "[\"<class 'pandas.core.frame.DataFrame'>\",\n",
       " 'RangeIndex: 772 entries, 0 to 771',\n",
       " 'Data columns (total 1 columns):',\n",
       " ' #   Column                                                                                                                                                                                                                                                     Non-Null Count  Dtype ',\n",
       " '---  ------                                                                                                                                                                                                                                                     --------------  ----- ',\n",
       " ' 0   state_abbrev,\"state\",\"municipality\",\"geocode\",\"urb2000\",\"rur2000\",\"tot2000\",\"prop_urb2000\",\"prop_rur2000\",\"urb2010\",\"rur2010\",\"tot2010\",\"prop_urb2010\",\"prop_rur2010\",\"pop_estimated2006\",\"pop_estimated2017\",\"urb2006e\",\"rur2006e\",\"urb2017e\",\"rur2017e\"  772 non-null    object',\n",
       " 'dtypes: object(1)',\n",
       " 'memory usage: 6.2+ KB']"
      ]
     },
     "execution_count": 38,
     "metadata": {},
     "output_type": "execute_result"
    }
   ],
   "source": [
    "lines"
   ]
  },
  {
   "cell_type": "code",
   "execution_count": 62,
   "id": "f62f9c77-3327-4fb7-9664-6faef65dce5e",
   "metadata": {
    "tags": []
   },
   "outputs": [],
   "source": [
    "iris_schema = 'SQLUser'\n",
    "iris_table = 'populacao'"
   ]
  },
  {
   "cell_type": "code",
   "execution_count": 63,
   "id": "4533ef1b-172c-4018-b42a-5925c1bf1ca9",
   "metadata": {
    "tags": []
   },
   "outputs": [
    {
     "name": "stderr",
     "output_type": "stream",
     "text": [
      "/tmp/ipykernel_889/2879127366.py:21: FutureWarning: The default value of regex will change from True to False in a future version.\n",
      "  dataFrame.columns = dataFrame.columns.str.replace(\"[() -]\", \"_\")\n"
     ]
    },
    {
     "ename": "java.sql.SQLException",
     "evalue": "java.sql.SQLException: [SQLCODE: <-30>:<Table or view not found>]\r\n[Location: <Prepare>]\r\n[%msg: < Table 'SQLUSER.POPULACAO' not found>]",
     "output_type": "error",
     "traceback": [
      "\u001b[0;31m---------------------------------------------------------------------------\u001b[0m",
      "\u001b[0;31mException\u001b[0m                                 Traceback (most recent call last)",
      "File \u001b[0;32mIRISConnection.java:230\u001b[0m, in \u001b[0;36mcom.intersystems.jdbc.IRISConnection.prepareStatement\u001b[0;34m()\u001b[0m\n",
      "\u001b[0;31mException\u001b[0m: Java Exception",
      "\nThe above exception was the direct cause of the following exception:\n",
      "\u001b[0;31mjava.sql.SQLException\u001b[0m                     Traceback (most recent call last)",
      "Cell \u001b[0;32mIn[63], line 2\u001b[0m\n\u001b[1;32m      1\u001b[0m \u001b[38;5;66;03m#df2iris\u001b[39;00m\n\u001b[0;32m----> 2\u001b[0m \u001b[43mto_sql_iris\u001b[49m\u001b[43m(\u001b[49m\u001b[43mcurs\u001b[49m\u001b[43m,\u001b[49m\u001b[43m \u001b[49m\u001b[43mfiocruz\u001b[49m\u001b[43m,\u001b[49m\u001b[43m \u001b[49m\u001b[43miris_table\u001b[49m\u001b[43m,\u001b[49m\u001b[43m \u001b[49m\u001b[43mdrop_table\u001b[49m\u001b[38;5;241;43m=\u001b[39;49m\u001b[38;5;28;43;01mTrue\u001b[39;49;00m\u001b[43m)\u001b[49m\n",
      "Cell \u001b[0;32mIn[55], line 32\u001b[0m, in \u001b[0;36mto_sql_iris\u001b[0;34m(cursor, dataFrame, tableName, schemaName, drop_table)\u001b[0m\n\u001b[1;32m     30\u001b[0m sql \u001b[38;5;241m=\u001b[39m \u001b[38;5;124m\"\u001b[39m\u001b[38;5;124mINSERT INTO \u001b[39m\u001b[38;5;124m\"\u001b[39m \u001b[38;5;241m+\u001b[39m tableName \u001b[38;5;241m+\u001b[39m \u001b[38;5;124m\"\u001b[39m\u001b[38;5;124m ( \u001b[39m\u001b[38;5;124m\"\u001b[39m \u001b[38;5;241m+\u001b[39m cols\u001b[38;5;241m.\u001b[39mreplace(\u001b[38;5;124m'\u001b[39m\u001b[38;5;124m-\u001b[39m\u001b[38;5;124m'\u001b[39m, \u001b[38;5;124m'\u001b[39m\u001b[38;5;124m_\u001b[39m\u001b[38;5;124m'\u001b[39m) \u001b[38;5;241m+\u001b[39m \u001b[38;5;124m\"\u001b[39m\u001b[38;5;124m ) VALUES\u001b[39m\u001b[38;5;124m\"\u001b[39m \u001b[38;5;241m+\u001b[39m wildc\n\u001b[1;32m     31\u001b[0m \u001b[38;5;66;03m#print(sql)\u001b[39;00m\n\u001b[0;32m---> 32\u001b[0m \u001b[43mcurs\u001b[49m\u001b[38;5;241;43m.\u001b[39;49m\u001b[43mexecutemany\u001b[49m\u001b[43m(\u001b[49m\u001b[43msql\u001b[49m\u001b[43m,\u001b[49m\u001b[43m \u001b[49m\u001b[38;5;28;43mlist\u001b[39;49m\u001b[43m(\u001b[49m\u001b[43mdataFrame\u001b[49m\u001b[38;5;241;43m.\u001b[39;49m\u001b[43mitertuples\u001b[49m\u001b[43m(\u001b[49m\u001b[43mindex\u001b[49m\u001b[38;5;241;43m=\u001b[39;49m\u001b[38;5;28;43;01mFalse\u001b[39;49;00m\u001b[43m,\u001b[49m\u001b[43m \u001b[49m\u001b[43mname\u001b[49m\u001b[38;5;241;43m=\u001b[39;49m\u001b[38;5;28;43;01mNone\u001b[39;49;00m\u001b[43m)\u001b[49m\u001b[43m)\u001b[49m\u001b[43m \u001b[49m\u001b[43m)\u001b[49m\n\u001b[1;32m     33\u001b[0m \u001b[38;5;28;01mreturn\u001b[39;00m \u001b[38;5;28;01mTrue\u001b[39;00m\n",
      "File \u001b[0;32m~/.local/lib/python3.10/site-packages/jaydebeapi/__init__.py:547\u001b[0m, in \u001b[0;36mCursor.executemany\u001b[0;34m(self, operation, seq_of_parameters)\u001b[0m\n\u001b[1;32m    545\u001b[0m \u001b[38;5;28;01mdef\u001b[39;00m \u001b[38;5;21mexecutemany\u001b[39m(\u001b[38;5;28mself\u001b[39m, operation, seq_of_parameters):\n\u001b[1;32m    546\u001b[0m     \u001b[38;5;28mself\u001b[39m\u001b[38;5;241m.\u001b[39m_close_last()\n\u001b[0;32m--> 547\u001b[0m     \u001b[38;5;28mself\u001b[39m\u001b[38;5;241m.\u001b[39m_prep \u001b[38;5;241m=\u001b[39m \u001b[38;5;28;43mself\u001b[39;49m\u001b[38;5;241;43m.\u001b[39;49m\u001b[43m_connection\u001b[49m\u001b[38;5;241;43m.\u001b[39;49m\u001b[43mjconn\u001b[49m\u001b[38;5;241;43m.\u001b[39;49m\u001b[43mprepareStatement\u001b[49m\u001b[43m(\u001b[49m\u001b[43moperation\u001b[49m\u001b[43m)\u001b[49m\n\u001b[1;32m    548\u001b[0m     \u001b[38;5;28;01mfor\u001b[39;00m parameters \u001b[38;5;129;01min\u001b[39;00m seq_of_parameters:\n\u001b[1;32m    549\u001b[0m         \u001b[38;5;28mself\u001b[39m\u001b[38;5;241m.\u001b[39m_set_stmt_parms(\u001b[38;5;28mself\u001b[39m\u001b[38;5;241m.\u001b[39m_prep, parameters)\n",
      "\u001b[0;31mjava.sql.SQLException\u001b[0m: java.sql.SQLException: [SQLCODE: <-30>:<Table or view not found>]\r\n[Location: <Prepare>]\r\n[%msg: < Table 'SQLUSER.POPULACAO' not found>]"
     ]
    }
   ],
   "source": [
    "#df2iris\n",
    "to_sql_iris(curs, fiocruz, iris_table, drop_table=True)\n"
   ]
  },
  {
   "cell_type": "code",
   "execution_count": 65,
   "id": "fb174eaa-0c9d-4960-8db2-dacc1e02bba5",
   "metadata": {
    "tags": []
   },
   "outputs": [
    {
     "name": "stderr",
     "output_type": "stream",
     "text": [
      "/tmp/ipykernel_889/2879127366.py:21: FutureWarning: The default value of regex will change from True to False in a future version.\n",
      "  dataFrame.columns = dataFrame.columns.str.replace(\"[() -]\", \"_\")\n"
     ]
    },
    {
     "ename": "java.sql.SQLException",
     "evalue": "java.sql.SQLException: [SQLCODE: <-30>:<Table or view not found>]\r\n[Location: <Prepare>]\r\n[%msg: < Table 'SQLUSER.POPULACAO' not found>]",
     "output_type": "error",
     "traceback": [
      "\u001b[0;31m---------------------------------------------------------------------------\u001b[0m",
      "\u001b[0;31mException\u001b[0m                                 Traceback (most recent call last)",
      "File \u001b[0;32mIRISConnection.java:230\u001b[0m, in \u001b[0;36mcom.intersystems.jdbc.IRISConnection.prepareStatement\u001b[0;34m()\u001b[0m\n",
      "\u001b[0;31mException\u001b[0m: Java Exception",
      "\nThe above exception was the direct cause of the following exception:\n",
      "\u001b[0;31mjava.sql.SQLException\u001b[0m                     Traceback (most recent call last)",
      "Cell \u001b[0;32mIn[65], line 1\u001b[0m\n\u001b[0;32m----> 1\u001b[0m \u001b[43mto_sql_iris\u001b[49m\u001b[43m(\u001b[49m\u001b[43mcurs\u001b[49m\u001b[43m,\u001b[49m\u001b[43m \u001b[49m\u001b[43mfiocruz\u001b[49m\u001b[43m,\u001b[49m\u001b[43m \u001b[49m\u001b[43miris_table\u001b[49m\u001b[43m,\u001b[49m\u001b[43m \u001b[49m\u001b[43miris_schema\u001b[49m\u001b[43m,\u001b[49m\u001b[43m \u001b[49m\u001b[43mdrop_table\u001b[49m\u001b[38;5;241;43m=\u001b[39;49m\u001b[38;5;28;43;01mTrue\u001b[39;49;00m\u001b[43m)\u001b[49m   \u001b[38;5;66;03m# save it into a new IRIS table of specified name\u001b[39;00m\n\u001b[1;32m      2\u001b[0m \u001b[38;5;66;03m#to_sql_iris(curs, df, iris_table)  # append dataframe to an exsiting IRIS table\u001b[39;00m\n",
      "Cell \u001b[0;32mIn[55], line 32\u001b[0m, in \u001b[0;36mto_sql_iris\u001b[0;34m(cursor, dataFrame, tableName, schemaName, drop_table)\u001b[0m\n\u001b[1;32m     30\u001b[0m sql \u001b[38;5;241m=\u001b[39m \u001b[38;5;124m\"\u001b[39m\u001b[38;5;124mINSERT INTO \u001b[39m\u001b[38;5;124m\"\u001b[39m \u001b[38;5;241m+\u001b[39m tableName \u001b[38;5;241m+\u001b[39m \u001b[38;5;124m\"\u001b[39m\u001b[38;5;124m ( \u001b[39m\u001b[38;5;124m\"\u001b[39m \u001b[38;5;241m+\u001b[39m cols\u001b[38;5;241m.\u001b[39mreplace(\u001b[38;5;124m'\u001b[39m\u001b[38;5;124m-\u001b[39m\u001b[38;5;124m'\u001b[39m, \u001b[38;5;124m'\u001b[39m\u001b[38;5;124m_\u001b[39m\u001b[38;5;124m'\u001b[39m) \u001b[38;5;241m+\u001b[39m \u001b[38;5;124m\"\u001b[39m\u001b[38;5;124m ) VALUES\u001b[39m\u001b[38;5;124m\"\u001b[39m \u001b[38;5;241m+\u001b[39m wildc\n\u001b[1;32m     31\u001b[0m \u001b[38;5;66;03m#print(sql)\u001b[39;00m\n\u001b[0;32m---> 32\u001b[0m \u001b[43mcurs\u001b[49m\u001b[38;5;241;43m.\u001b[39;49m\u001b[43mexecutemany\u001b[49m\u001b[43m(\u001b[49m\u001b[43msql\u001b[49m\u001b[43m,\u001b[49m\u001b[43m \u001b[49m\u001b[38;5;28;43mlist\u001b[39;49m\u001b[43m(\u001b[49m\u001b[43mdataFrame\u001b[49m\u001b[38;5;241;43m.\u001b[39;49m\u001b[43mitertuples\u001b[49m\u001b[43m(\u001b[49m\u001b[43mindex\u001b[49m\u001b[38;5;241;43m=\u001b[39;49m\u001b[38;5;28;43;01mFalse\u001b[39;49;00m\u001b[43m,\u001b[49m\u001b[43m \u001b[49m\u001b[43mname\u001b[49m\u001b[38;5;241;43m=\u001b[39;49m\u001b[38;5;28;43;01mNone\u001b[39;49;00m\u001b[43m)\u001b[49m\u001b[43m)\u001b[49m\u001b[43m \u001b[49m\u001b[43m)\u001b[49m\n\u001b[1;32m     33\u001b[0m \u001b[38;5;28;01mreturn\u001b[39;00m \u001b[38;5;28;01mTrue\u001b[39;00m\n",
      "File \u001b[0;32m~/.local/lib/python3.10/site-packages/jaydebeapi/__init__.py:547\u001b[0m, in \u001b[0;36mCursor.executemany\u001b[0;34m(self, operation, seq_of_parameters)\u001b[0m\n\u001b[1;32m    545\u001b[0m \u001b[38;5;28;01mdef\u001b[39;00m \u001b[38;5;21mexecutemany\u001b[39m(\u001b[38;5;28mself\u001b[39m, operation, seq_of_parameters):\n\u001b[1;32m    546\u001b[0m     \u001b[38;5;28mself\u001b[39m\u001b[38;5;241m.\u001b[39m_close_last()\n\u001b[0;32m--> 547\u001b[0m     \u001b[38;5;28mself\u001b[39m\u001b[38;5;241m.\u001b[39m_prep \u001b[38;5;241m=\u001b[39m \u001b[38;5;28;43mself\u001b[39;49m\u001b[38;5;241;43m.\u001b[39;49m\u001b[43m_connection\u001b[49m\u001b[38;5;241;43m.\u001b[39;49m\u001b[43mjconn\u001b[49m\u001b[38;5;241;43m.\u001b[39;49m\u001b[43mprepareStatement\u001b[49m\u001b[43m(\u001b[49m\u001b[43moperation\u001b[49m\u001b[43m)\u001b[49m\n\u001b[1;32m    548\u001b[0m     \u001b[38;5;28;01mfor\u001b[39;00m parameters \u001b[38;5;129;01min\u001b[39;00m seq_of_parameters:\n\u001b[1;32m    549\u001b[0m         \u001b[38;5;28mself\u001b[39m\u001b[38;5;241m.\u001b[39m_set_stmt_parms(\u001b[38;5;28mself\u001b[39m\u001b[38;5;241m.\u001b[39m_prep, parameters)\n",
      "\u001b[0;31mjava.sql.SQLException\u001b[0m: java.sql.SQLException: [SQLCODE: <-30>:<Table or view not found>]\r\n[Location: <Prepare>]\r\n[%msg: < Table 'SQLUSER.POPULACAO' not found>]"
     ]
    }
   ],
   "source": [
    "to_sql_iris(curs, fiocruz, iris_table, iris_schema, drop_table=True)   # save it into a new IRIS table of specified name\n",
    "#to_sql_iris(curs, df, iris_table)  # append dataframe to an exsiting IRIS table"
   ]
  },
  {
   "cell_type": "code",
   "execution_count": null,
   "id": "7c94769c-af47-4074-8972-e85b103ee5c4",
   "metadata": {},
   "outputs": [],
   "source": [
    "import pandas as pd\n",
    "from IPython.display import display"
   ]
  },
  {
   "cell_type": "code",
   "execution_count": null,
   "id": "91d9ac52-f917-49f0-a218-7272e75092f5",
   "metadata": {},
   "outputs": [],
   "source": [
    "#iris2df\n",
    "df2 = pd.read_sql(\"SELECT COUNT(*) from %s.%s\" %(iris_schema, iris_table),conn)\n",
    "display(df2)"
   ]
  }
 ],
 "metadata": {
  "kernelspec": {
   "display_name": "Python 3 (ipykernel)",
   "language": "python",
   "name": "python3"
  },
  "language_info": {
   "codemirror_mode": {
    "name": "ipython",
    "version": 3
   },
   "file_extension": ".py",
   "mimetype": "text/x-python",
   "name": "python",
   "nbconvert_exporter": "python",
   "pygments_lexer": "ipython3",
   "version": "3.10.6"
  }
 },
 "nbformat": 4,
 "nbformat_minor": 5
}
